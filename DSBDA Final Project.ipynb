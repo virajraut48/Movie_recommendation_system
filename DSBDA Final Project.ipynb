{
 "cells": [
  {
   "cell_type": "markdown",
   "id": "1a386d41",
   "metadata": {},
   "source": [
    "# Mini Project\n",
    "## Title : Develop a movie recommendation model using the scikit-learn library in python.\n",
    "#### VIRAJ J RAUT (2131071)\n",
    "#### PRASAD Y SHELAR (2131077)\n",
    "### Importing libraries and Reading Dataset"
   ]
  },
  {
   "cell_type": "code",
   "execution_count": 1,
   "id": "0cda92f7",
   "metadata": {},
   "outputs": [],
   "source": [
    "import pandas as pd \n",
    "import numpy as np \n",
    "import seaborn\n",
    "import matplotlib.pyplot as plt\n",
    "movies=pd.read_csv('tmdb_movies.csv')"
   ]
  },
  {
   "cell_type": "code",
   "execution_count": 2,
   "id": "e407aebc",
   "metadata": {},
   "outputs": [
    {
     "data": {
      "text/html": [
       "<div>\n",
       "<style scoped>\n",
       "    .dataframe tbody tr th:only-of-type {\n",
       "        vertical-align: middle;\n",
       "    }\n",
       "\n",
       "    .dataframe tbody tr th {\n",
       "        vertical-align: top;\n",
       "    }\n",
       "\n",
       "    .dataframe thead th {\n",
       "        text-align: right;\n",
       "    }\n",
       "</style>\n",
       "<table border=\"1\" class=\"dataframe\">\n",
       "  <thead>\n",
       "    <tr style=\"text-align: right;\">\n",
       "      <th></th>\n",
       "      <th>item_id</th>\n",
       "      <th>title</th>\n",
       "      <th>rating</th>\n",
       "      <th>status</th>\n",
       "      <th>original_language</th>\n",
       "      <th>geners</th>\n",
       "      <th>overview</th>\n",
       "      <th>vote_average</th>\n",
       "      <th>popularity</th>\n",
       "      <th>director</th>\n",
       "      <th>actor</th>\n",
       "      <th>release_year</th>\n",
       "      <th>revenue</th>\n",
       "      <th>runtime</th>\n",
       "      <th>vote_count</th>\n",
       "      <th>tagline</th>\n",
       "      <th>user_id</th>\n",
       "    </tr>\n",
       "  </thead>\n",
       "  <tbody>\n",
       "    <tr>\n",
       "      <th>0</th>\n",
       "      <td>50</td>\n",
       "      <td>Avatar</td>\n",
       "      <td>5.0</td>\n",
       "      <td>Released</td>\n",
       "      <td>en</td>\n",
       "      <td>Action Adventure Fantasy</td>\n",
       "      <td>In the 22nd century, a paraplegic Marine is di...</td>\n",
       "      <td>7.2</td>\n",
       "      <td>150.437577</td>\n",
       "      <td>Frank Darabont</td>\n",
       "      <td>Orlando Bloom</td>\n",
       "      <td>10-12-2009</td>\n",
       "      <td>2.787965e+09</td>\n",
       "      <td>162.0</td>\n",
       "      <td>11800.0</td>\n",
       "      <td>Enter the World of Pandora.</td>\n",
       "      <td>0.0</td>\n",
       "    </tr>\n",
       "    <tr>\n",
       "      <th>1</th>\n",
       "      <td>172</td>\n",
       "      <td>Pirates of the Caribbean: At World's End</td>\n",
       "      <td>5.0</td>\n",
       "      <td>Released</td>\n",
       "      <td>en</td>\n",
       "      <td>Action Adventure Thriller</td>\n",
       "      <td>Captain Barbossa, long believed to be dead, ha...</td>\n",
       "      <td>6.9</td>\n",
       "      <td>139.082615</td>\n",
       "      <td>Francis Ford Coppola</td>\n",
       "      <td>Rory Kinnear</td>\n",
       "      <td>19-05-2007</td>\n",
       "      <td>9.610000e+08</td>\n",
       "      <td>169.0</td>\n",
       "      <td>4500.0</td>\n",
       "      <td>At the end of the world, the adventure begins.</td>\n",
       "      <td>0.0</td>\n",
       "    </tr>\n",
       "    <tr>\n",
       "      <th>2</th>\n",
       "      <td>133</td>\n",
       "      <td>Spectre</td>\n",
       "      <td>1.0</td>\n",
       "      <td>Released</td>\n",
       "      <td>en</td>\n",
       "      <td>Action Thriller</td>\n",
       "      <td>A cryptic message from Bond’s past sends him o...</td>\n",
       "      <td>6.3</td>\n",
       "      <td>107.376788</td>\n",
       "      <td>Christopher Nolan</td>\n",
       "      <td>Christian Bale</td>\n",
       "      <td>26-10-2015</td>\n",
       "      <td>8.806746e+08</td>\n",
       "      <td>148.0</td>\n",
       "      <td>4466.0</td>\n",
       "      <td>A Plan No One Escapes</td>\n",
       "      <td>0.0</td>\n",
       "    </tr>\n",
       "    <tr>\n",
       "      <th>3</th>\n",
       "      <td>242</td>\n",
       "      <td>The Dark Knight Rises</td>\n",
       "      <td>3.0</td>\n",
       "      <td>Released</td>\n",
       "      <td>en</td>\n",
       "      <td>Documentary</td>\n",
       "      <td>Following the death of District Attorney Harve...</td>\n",
       "      <td>7.6</td>\n",
       "      <td>112.312950</td>\n",
       "      <td>Francis Ford Coppola</td>\n",
       "      <td>Rob Walker</td>\n",
       "      <td>16-07-2012</td>\n",
       "      <td>1.084939e+09</td>\n",
       "      <td>165.0</td>\n",
       "      <td>9106.0</td>\n",
       "      <td>The Legend Ends</td>\n",
       "      <td>196.0</td>\n",
       "    </tr>\n",
       "    <tr>\n",
       "      <th>4</th>\n",
       "      <td>302</td>\n",
       "      <td>John Carter</td>\n",
       "      <td>3.0</td>\n",
       "      <td>Released</td>\n",
       "      <td>en</td>\n",
       "      <td>Action Adventure Sci-Fi</td>\n",
       "      <td>John Carter is a war-weary, former military ca...</td>\n",
       "      <td>6.1</td>\n",
       "      <td>43.926995</td>\n",
       "      <td>Sidney Lumet</td>\n",
       "      <td>Samantha Morton</td>\n",
       "      <td>07-03-2012</td>\n",
       "      <td>2.841391e+08</td>\n",
       "      <td>132.0</td>\n",
       "      <td>2124.0</td>\n",
       "      <td>Lost in our world, found in another.</td>\n",
       "      <td>186.0</td>\n",
       "    </tr>\n",
       "  </tbody>\n",
       "</table>\n",
       "</div>"
      ],
      "text/plain": [
       "   item_id                                     title  rating    status  \\\n",
       "0       50                                    Avatar     5.0  Released   \n",
       "1      172  Pirates of the Caribbean: At World's End     5.0  Released   \n",
       "2      133                                   Spectre     1.0  Released   \n",
       "3      242                     The Dark Knight Rises     3.0  Released   \n",
       "4      302                               John Carter     3.0  Released   \n",
       "\n",
       "  original_language                     geners  \\\n",
       "0                en   Action Adventure Fantasy   \n",
       "1                en  Action Adventure Thriller   \n",
       "2                en            Action Thriller   \n",
       "3                en                Documentary   \n",
       "4                en    Action Adventure Sci-Fi   \n",
       "\n",
       "                                            overview  vote_average  \\\n",
       "0  In the 22nd century, a paraplegic Marine is di...           7.2   \n",
       "1  Captain Barbossa, long believed to be dead, ha...           6.9   \n",
       "2  A cryptic message from Bond’s past sends him o...           6.3   \n",
       "3  Following the death of District Attorney Harve...           7.6   \n",
       "4  John Carter is a war-weary, former military ca...           6.1   \n",
       "\n",
       "   popularity              director            actor release_year  \\\n",
       "0  150.437577        Frank Darabont    Orlando Bloom   10-12-2009   \n",
       "1  139.082615  Francis Ford Coppola     Rory Kinnear   19-05-2007   \n",
       "2  107.376788     Christopher Nolan   Christian Bale   26-10-2015   \n",
       "3  112.312950  Francis Ford Coppola       Rob Walker   16-07-2012   \n",
       "4   43.926995          Sidney Lumet  Samantha Morton   07-03-2012   \n",
       "\n",
       "        revenue  runtime  vote_count  \\\n",
       "0  2.787965e+09    162.0     11800.0   \n",
       "1  9.610000e+08    169.0      4500.0   \n",
       "2  8.806746e+08    148.0      4466.0   \n",
       "3  1.084939e+09    165.0      9106.0   \n",
       "4  2.841391e+08    132.0      2124.0   \n",
       "\n",
       "                                          tagline  user_id  \n",
       "0                     Enter the World of Pandora.      0.0  \n",
       "1  At the end of the world, the adventure begins.      0.0  \n",
       "2                           A Plan No One Escapes      0.0  \n",
       "3                                 The Legend Ends    196.0  \n",
       "4            Lost in our world, found in another.    186.0  "
      ]
     },
     "execution_count": 2,
     "metadata": {},
     "output_type": "execute_result"
    },
    {
     "data": {
      "text/html": [
       "<div>\n",
       "<style scoped>\n",
       "    .dataframe tbody tr th:only-of-type {\n",
       "        vertical-align: middle;\n",
       "    }\n",
       "\n",
       "    .dataframe tbody tr th {\n",
       "        vertical-align: top;\n",
       "    }\n",
       "\n",
       "    .dataframe thead th {\n",
       "        text-align: right;\n",
       "    }\n",
       "</style>\n",
       "<table border=\"1\" class=\"dataframe\">\n",
       "  <thead>\n",
       "    <tr style=\"text-align: right;\">\n",
       "      <th></th>\n",
       "      <th>item_id</th>\n",
       "      <th>title</th>\n",
       "      <th>rating</th>\n",
       "      <th>status</th>\n",
       "      <th>original_language</th>\n",
       "      <th>geners</th>\n",
       "      <th>overview</th>\n",
       "      <th>vote_average</th>\n",
       "      <th>popularity</th>\n",
       "      <th>director</th>\n",
       "      <th>actor</th>\n",
       "      <th>release_year</th>\n",
       "      <th>revenue</th>\n",
       "      <th>runtime</th>\n",
       "      <th>vote_count</th>\n",
       "      <th>tagline</th>\n",
       "      <th>user_id</th>\n",
       "    </tr>\n",
       "  </thead>\n",
       "  <tbody>\n",
       "    <tr>\n",
       "      <th>0</th>\n",
       "      <td>50</td>\n",
       "      <td>Avatar</td>\n",
       "      <td>5.0</td>\n",
       "      <td>Released</td>\n",
       "      <td>en</td>\n",
       "      <td>Action Adventure Fantasy</td>\n",
       "      <td>In the 22nd century, a paraplegic Marine is di...</td>\n",
       "      <td>7.2</td>\n",
       "      <td>150.437577</td>\n",
       "      <td>Frank Darabont</td>\n",
       "      <td>Orlando Bloom</td>\n",
       "      <td>10-12-2009</td>\n",
       "      <td>2.787965e+09</td>\n",
       "      <td>162.0</td>\n",
       "      <td>11800.0</td>\n",
       "      <td>Enter the World of Pandora.</td>\n",
       "      <td>0.0</td>\n",
       "    </tr>\n",
       "    <tr>\n",
       "      <th>1</th>\n",
       "      <td>172</td>\n",
       "      <td>Pirates of the Caribbean: At World's End</td>\n",
       "      <td>5.0</td>\n",
       "      <td>Released</td>\n",
       "      <td>en</td>\n",
       "      <td>Action Adventure Thriller</td>\n",
       "      <td>Captain Barbossa, long believed to be dead, ha...</td>\n",
       "      <td>6.9</td>\n",
       "      <td>139.082615</td>\n",
       "      <td>Francis Ford Coppola</td>\n",
       "      <td>Rory Kinnear</td>\n",
       "      <td>19-05-2007</td>\n",
       "      <td>9.610000e+08</td>\n",
       "      <td>169.0</td>\n",
       "      <td>4500.0</td>\n",
       "      <td>At the end of the world, the adventure begins.</td>\n",
       "      <td>0.0</td>\n",
       "    </tr>\n",
       "    <tr>\n",
       "      <th>2</th>\n",
       "      <td>133</td>\n",
       "      <td>Spectre</td>\n",
       "      <td>1.0</td>\n",
       "      <td>Released</td>\n",
       "      <td>en</td>\n",
       "      <td>Action Thriller</td>\n",
       "      <td>A cryptic message from Bond’s past sends him o...</td>\n",
       "      <td>6.3</td>\n",
       "      <td>107.376788</td>\n",
       "      <td>Christopher Nolan</td>\n",
       "      <td>Christian Bale</td>\n",
       "      <td>26-10-2015</td>\n",
       "      <td>8.806746e+08</td>\n",
       "      <td>148.0</td>\n",
       "      <td>4466.0</td>\n",
       "      <td>A Plan No One Escapes</td>\n",
       "      <td>0.0</td>\n",
       "    </tr>\n",
       "    <tr>\n",
       "      <th>3</th>\n",
       "      <td>242</td>\n",
       "      <td>The Dark Knight Rises</td>\n",
       "      <td>3.0</td>\n",
       "      <td>Released</td>\n",
       "      <td>en</td>\n",
       "      <td>Documentary</td>\n",
       "      <td>Following the death of District Attorney Harve...</td>\n",
       "      <td>7.6</td>\n",
       "      <td>112.312950</td>\n",
       "      <td>Francis Ford Coppola</td>\n",
       "      <td>Rob Walker</td>\n",
       "      <td>16-07-2012</td>\n",
       "      <td>1.084939e+09</td>\n",
       "      <td>165.0</td>\n",
       "      <td>9106.0</td>\n",
       "      <td>The Legend Ends</td>\n",
       "      <td>196.0</td>\n",
       "    </tr>\n",
       "    <tr>\n",
       "      <th>4</th>\n",
       "      <td>302</td>\n",
       "      <td>John Carter</td>\n",
       "      <td>3.0</td>\n",
       "      <td>Released</td>\n",
       "      <td>en</td>\n",
       "      <td>Action Adventure Sci-Fi</td>\n",
       "      <td>John Carter is a war-weary, former military ca...</td>\n",
       "      <td>6.1</td>\n",
       "      <td>43.926995</td>\n",
       "      <td>Sidney Lumet</td>\n",
       "      <td>Samantha Morton</td>\n",
       "      <td>07-03-2012</td>\n",
       "      <td>2.841391e+08</td>\n",
       "      <td>132.0</td>\n",
       "      <td>2124.0</td>\n",
       "      <td>Lost in our world, found in another.</td>\n",
       "      <td>186.0</td>\n",
       "    </tr>\n",
       "  </tbody>\n",
       "</table>\n",
       "</div>"
      ],
      "text/plain": [
       "   item_id                                     title  rating    status  \\\n",
       "0       50                                    Avatar     5.0  Released   \n",
       "1      172  Pirates of the Caribbean: At World's End     5.0  Released   \n",
       "2      133                                   Spectre     1.0  Released   \n",
       "3      242                     The Dark Knight Rises     3.0  Released   \n",
       "4      302                               John Carter     3.0  Released   \n",
       "\n",
       "  original_language                     geners  \\\n",
       "0                en   Action Adventure Fantasy   \n",
       "1                en  Action Adventure Thriller   \n",
       "2                en            Action Thriller   \n",
       "3                en                Documentary   \n",
       "4                en    Action Adventure Sci-Fi   \n",
       "\n",
       "                                            overview  vote_average  \\\n",
       "0  In the 22nd century, a paraplegic Marine is di...           7.2   \n",
       "1  Captain Barbossa, long believed to be dead, ha...           6.9   \n",
       "2  A cryptic message from Bond’s past sends him o...           6.3   \n",
       "3  Following the death of District Attorney Harve...           7.6   \n",
       "4  John Carter is a war-weary, former military ca...           6.1   \n",
       "\n",
       "   popularity              director            actor release_year  \\\n",
       "0  150.437577        Frank Darabont    Orlando Bloom   10-12-2009   \n",
       "1  139.082615  Francis Ford Coppola     Rory Kinnear   19-05-2007   \n",
       "2  107.376788     Christopher Nolan   Christian Bale   26-10-2015   \n",
       "3  112.312950  Francis Ford Coppola       Rob Walker   16-07-2012   \n",
       "4   43.926995          Sidney Lumet  Samantha Morton   07-03-2012   \n",
       "\n",
       "        revenue  runtime  vote_count  \\\n",
       "0  2.787965e+09    162.0     11800.0   \n",
       "1  9.610000e+08    169.0      4500.0   \n",
       "2  8.806746e+08    148.0      4466.0   \n",
       "3  1.084939e+09    165.0      9106.0   \n",
       "4  2.841391e+08    132.0      2124.0   \n",
       "\n",
       "                                          tagline  user_id  \n",
       "0                     Enter the World of Pandora.      0.0  \n",
       "1  At the end of the world, the adventure begins.      0.0  \n",
       "2                           A Plan No One Escapes      0.0  \n",
       "3                                 The Legend Ends    196.0  \n",
       "4            Lost in our world, found in another.    186.0  "
      ]
     },
     "execution_count": 2,
     "metadata": {},
     "output_type": "execute_result"
    }
   ],
   "source": [
    "movies.head()"
   ]
  },
  {
   "cell_type": "code",
   "execution_count": 3,
   "id": "8991818f",
   "metadata": {},
   "outputs": [
    {
     "data": {
      "text/plain": [
       "(4803, 17)"
      ]
     },
     "execution_count": 3,
     "metadata": {},
     "output_type": "execute_result"
    }
   ],
   "source": [
    "movies.shape"
   ]
  },
  {
   "cell_type": "markdown",
   "id": "89c241e5",
   "metadata": {},
   "source": [
    "### Information about the DataSet."
   ]
  },
  {
   "cell_type": "code",
   "execution_count": 4,
   "id": "fe18bbd7",
   "metadata": {
    "scrolled": false
   },
   "outputs": [
    {
     "name": "stdout",
     "output_type": "stream",
     "text": [
      "<class 'pandas.core.frame.DataFrame'>\n",
      "RangeIndex: 4803 entries, 0 to 4802\n",
      "Data columns (total 17 columns):\n",
      " #   Column             Non-Null Count  Dtype  \n",
      "---  ------             --------------  -----  \n",
      " 0   item_id            4803 non-null   int64  \n",
      " 1   title              4803 non-null   object \n",
      " 2   rating             4789 non-null   float64\n",
      " 3   status             4803 non-null   object \n",
      " 4   original_language  4803 non-null   object \n",
      " 5   geners             4803 non-null   object \n",
      " 6   overview           4800 non-null   object \n",
      " 7   vote_average       4784 non-null   float64\n",
      " 8   popularity         4562 non-null   float64\n",
      " 9   director           4803 non-null   object \n",
      " 10  actor              4803 non-null   object \n",
      " 11  release_year       4802 non-null   object \n",
      " 12  revenue            4716 non-null   float64\n",
      " 13  runtime            4801 non-null   float64\n",
      " 14  vote_count         4539 non-null   float64\n",
      " 15  tagline            3959 non-null   object \n",
      " 16  user_id            4802 non-null   float64\n",
      "dtypes: float64(7), int64(1), object(9)\n",
      "memory usage: 638.0+ KB\n"
     ]
    }
   ],
   "source": [
    "movies.info()"
   ]
  },
  {
   "cell_type": "markdown",
   "id": "8ea8b254",
   "metadata": {},
   "source": [
    "### Finding Null Values in DataSet"
   ]
  },
  {
   "cell_type": "code",
   "execution_count": 5,
   "id": "0b27c22b",
   "metadata": {
    "scrolled": false
   },
   "outputs": [
    {
     "data": {
      "text/plain": [
       "item_id                0\n",
       "title                  0\n",
       "rating                14\n",
       "status                 0\n",
       "original_language      0\n",
       "geners                 0\n",
       "overview               3\n",
       "vote_average          19\n",
       "popularity           241\n",
       "director               0\n",
       "actor                  0\n",
       "release_year           1\n",
       "revenue               87\n",
       "runtime                2\n",
       "vote_count           264\n",
       "tagline              844\n",
       "user_id                1\n",
       "dtype: int64"
      ]
     },
     "execution_count": 5,
     "metadata": {},
     "output_type": "execute_result"
    }
   ],
   "source": [
    "movies.isnull().sum()"
   ]
  },
  {
   "cell_type": "code",
   "execution_count": 6,
   "id": "bccd989c",
   "metadata": {},
   "outputs": [
    {
     "name": "stderr",
     "output_type": "stream",
     "text": [
      "D:\\anaconda3\\lib\\site-packages\\seaborn\\_decorators.py:36: FutureWarning: Pass the following variable as a keyword arg: x. From version 0.12, the only valid positional argument will be `data`, and passing other arguments without an explicit keyword will result in an error or misinterpretation.\n",
      "  warnings.warn(\n"
     ]
    },
    {
     "data": {
      "text/plain": [
       "<AxesSubplot:xlabel='rating'>"
      ]
     },
     "execution_count": 6,
     "metadata": {},
     "output_type": "execute_result"
    },
    {
     "data": {
      "image/png": "[encoded data removed]",
      "text/plain": [
       "<Figure size 432x288 with 1 Axes>"
      ]
     },
     "metadata": {
      "needs_background": "light"
     },
     "output_type": "display_data"
    }
   ],
   "source": [
    "seaborn.boxplot(movies.rating)"
   ]
  },
  {
   "cell_type": "code",
   "execution_count": 7,
   "id": "f6f05a5a",
   "metadata": {},
   "outputs": [
    {
     "name": "stderr",
     "output_type": "stream",
     "text": [
      "D:\\anaconda3\\lib\\site-packages\\seaborn\\distributions.py:2557: FutureWarning: `distplot` is a deprecated function and will be removed in a future version. Please adapt your code to use either `displot` (a figure-level function with similar flexibility) or `histplot` (an axes-level function for histograms).\n",
      "  warnings.warn(msg, FutureWarning)\n"
     ]
    },
    {
     "data": {
      "text/plain": [
       "<AxesSubplot:xlabel='rating', ylabel='Density'>"
      ]
     },
     "execution_count": 7,
     "metadata": {},
     "output_type": "execute_result"
    },
    {
     "data": {
      "image/png": "[encoded data removed]",
      "text/plain": [
       "<Figure size 432x288 with 1 Axes>"
      ]
     },
     "metadata": {
      "needs_background": "light"
     },
     "output_type": "display_data"
    }
   ],
   "source": [
    "seaborn.distplot(movies.rating)"
   ]
  },
  {
   "cell_type": "code",
   "execution_count": 8,
   "id": "693f86cb",
   "metadata": {},
   "outputs": [],
   "source": [
    "#filling missing values mean of colomns\n",
    "movies['rating']=movies['rating'].fillna(movies['rating'].mean())"
   ]
  },
  {
   "cell_type": "markdown",
   "id": "e5621f24",
   "metadata": {},
   "source": [
    "### Importing Vectorization library"
   ]
  },
  {
   "cell_type": "code",
   "execution_count": 9,
   "id": "dc341f5b",
   "metadata": {},
   "outputs": [],
   "source": [
    "from sklearn.feature_extraction.text import CountVectorizer       "
   ]
  },
  {
   "cell_type": "code",
   "execution_count": 10,
   "id": "bbc4be43",
   "metadata": {},
   "outputs": [
    {
     "name": "stdout",
     "output_type": "stream",
     "text": [
      "Count Matrix : [[0 0 0 ... 0 0 0]\n",
      " [0 0 0 ... 0 0 0]\n",
      " [0 0 0 ... 0 0 0]\n",
      " ...\n",
      " [0 0 0 ... 0 0 0]\n",
      " [0 0 0 ... 0 0 0]\n",
      " [0 0 0 ... 0 0 0]]\n"
     ]
    }
   ],
   "source": [
    "cv = CountVectorizer()\n",
    "count_matrix = cv.fit_transform(movies['title'])\n",
    "print(\"Count Matrix :\", count_matrix.toarray())"
   ]
  },
  {
   "cell_type": "code",
   "execution_count": 11,
   "id": "0b974430",
   "metadata": {},
   "outputs": [
    {
     "data": {
      "text/plain": [
       "(4803, 4684)"
      ]
     },
     "execution_count": 11,
     "metadata": {},
     "output_type": "execute_result"
    }
   ],
   "source": [
    "count_matrix.shape"
   ]
  },
  {
   "cell_type": "markdown",
   "id": "71f672c4",
   "metadata": {},
   "source": [
    "### Importing cosine similarity "
   ]
  },
  {
   "cell_type": "code",
   "execution_count": 12,
   "id": "afd373f7",
   "metadata": {},
   "outputs": [],
   "source": [
    "from sklearn.metrics.pairwise import cosine_similarity"
   ]
  },
  {
   "cell_type": "code",
   "execution_count": 13,
   "id": "a60387b1",
   "metadata": {},
   "outputs": [
    {
     "data": {
      "text/plain": [
       "array([[1., 0., 0., ..., 0., 0., 0.],\n",
       "       [0., 1., 0., ..., 0., 0., 0.],\n",
       "       [0., 0., 1., ..., 0., 0., 0.],\n",
       "       ...,\n",
       "       [0., 0., 0., ..., 1., 0., 0.],\n",
       "       [0., 0., 0., ..., 0., 1., 0.],\n",
       "       [0., 0., 0., ..., 0., 0., 1.]])"
      ]
     },
     "execution_count": 13,
     "metadata": {},
     "output_type": "execute_result"
    }
   ],
   "source": [
    "similarity = cosine_similarity(count_matrix)\n",
    "similarity"
   ]
  },
  {
   "cell_type": "markdown",
   "id": "b683732f",
   "metadata": {},
   "source": [
    "### Accesing index value from movie title column "
   ]
  },
  {
   "cell_type": "code",
   "execution_count": 14,
   "id": "2b46a1eb",
   "metadata": {},
   "outputs": [
    {
     "data": {
      "text/plain": [
       "744"
      ]
     },
     "execution_count": 14,
     "metadata": {},
     "output_type": "execute_result"
    }
   ],
   "source": [
    "movies[movies['title'] == 'The Lego Movie'].index[0]"
   ]
  },
  {
   "cell_type": "markdown",
   "id": "6cec09c5",
   "metadata": {},
   "source": [
    "### Generating Similar Movies"
   ]
  },
  {
   "cell_type": "code",
   "execution_count": 15,
   "id": "b0c87045",
   "metadata": {},
   "outputs": [],
   "source": [
    "# In this function we first add the movie title \n",
    "def recommend(movie):\n",
    "    index = movies[movies['title'] == movie].index[0]\n",
    "    # Getting similarity movies in ascending order \n",
    "    similar_movies = sorted(list(enumerate(similarity[index])),reverse=True,key = lambda x: x[1])\n",
    "    # Just picking top 10 movie which have more similarity to the movie by through index\n",
    "    for i in similar_movies[1:11]:\n",
    "        print(movies.iloc[i[0]].title)"
   ]
  },
  {
   "cell_type": "code",
   "execution_count": 16,
   "id": "2f7fa9f2",
   "metadata": {},
   "outputs": [
    {
     "name": "stdout",
     "output_type": "stream",
     "text": [
      "The Peanuts Movie\n",
      "The Simpsons Movie\n",
      "The Rugrats Movie\n",
      "The Tigger Movie\n",
      "The Muppet Movie\n",
      "Jackass: The Movie\n",
      "Digimon: The Movie\n",
      "Steppin: The Movie\n",
      "The Angry Birds Movie\n",
      "The SpongeBob SquarePants Movie\n"
     ]
    }
   ],
   "source": [
    "recommend('The Lego Movie')"
   ]
  },
  {
   "cell_type": "code",
   "execution_count": 17,
   "id": "07109f31",
   "metadata": {
    "scrolled": true
   },
   "outputs": [
    {
     "name": "stdout",
     "output_type": "stream",
     "text": [
      "The Scorpion King\n",
      "The Monkey King 2\n",
      "The Fisher King\n",
      "The King's Speech\n",
      "The Chronicles of Narnia: The Lion, the Witch and the Wardrobe\n",
      "The Lord of the Rings: The Return of the King\n",
      "Anna and the King\n",
      "All the King's Men\n",
      "Lion of the Desert\n",
      "The Lion of Judah\n"
     ]
    }
   ],
   "source": [
    "recommend('The Lion King')"
   ]
  },
  {
   "cell_type": "markdown",
   "id": "a101db19",
   "metadata": {},
   "source": [
    "# Movie Recommendation Using Pearson Correlation"
   ]
  },
  {
   "cell_type": "code",
   "execution_count": 18,
   "id": "3f0fabb8",
   "metadata": {},
   "outputs": [
    {
     "data": {
      "text/html": [
       "<div>\n",
       "<style scoped>\n",
       "    .dataframe tbody tr th:only-of-type {\n",
       "        vertical-align: middle;\n",
       "    }\n",
       "\n",
       "    .dataframe tbody tr th {\n",
       "        vertical-align: top;\n",
       "    }\n",
       "\n",
       "    .dataframe thead th {\n",
       "        text-align: right;\n",
       "    }\n",
       "</style>\n",
       "<table border=\"1\" class=\"dataframe\">\n",
       "  <thead>\n",
       "    <tr style=\"text-align: right;\">\n",
       "      <th></th>\n",
       "      <th>item_id</th>\n",
       "      <th>rating</th>\n",
       "      <th>vote_average</th>\n",
       "      <th>popularity</th>\n",
       "      <th>revenue</th>\n",
       "      <th>runtime</th>\n",
       "      <th>vote_count</th>\n",
       "      <th>user_id</th>\n",
       "    </tr>\n",
       "  </thead>\n",
       "  <tbody>\n",
       "    <tr>\n",
       "      <th>item_id</th>\n",
       "      <td>1.000000</td>\n",
       "      <td>-0.186723</td>\n",
       "      <td>-0.018123</td>\n",
       "      <td>0.001866</td>\n",
       "      <td>-0.004926</td>\n",
       "      <td>-0.018554</td>\n",
       "      <td>0.000908</td>\n",
       "      <td>0.043523</td>\n",
       "    </tr>\n",
       "    <tr>\n",
       "      <th>rating</th>\n",
       "      <td>-0.186723</td>\n",
       "      <td>1.000000</td>\n",
       "      <td>0.004106</td>\n",
       "      <td>0.010324</td>\n",
       "      <td>-0.009586</td>\n",
       "      <td>0.001059</td>\n",
       "      <td>0.007979</td>\n",
       "      <td>0.006431</td>\n",
       "    </tr>\n",
       "    <tr>\n",
       "      <th>vote_average</th>\n",
       "      <td>-0.018123</td>\n",
       "      <td>0.004106</td>\n",
       "      <td>1.000000</td>\n",
       "      <td>0.289772</td>\n",
       "      <td>0.191441</td>\n",
       "      <td>0.375210</td>\n",
       "      <td>0.306121</td>\n",
       "      <td>-0.003119</td>\n",
       "    </tr>\n",
       "    <tr>\n",
       "      <th>popularity</th>\n",
       "      <td>0.001866</td>\n",
       "      <td>0.010324</td>\n",
       "      <td>0.289772</td>\n",
       "      <td>1.000000</td>\n",
       "      <td>0.639123</td>\n",
       "      <td>0.206176</td>\n",
       "      <td>0.773873</td>\n",
       "      <td>-0.009439</td>\n",
       "    </tr>\n",
       "    <tr>\n",
       "      <th>revenue</th>\n",
       "      <td>-0.004926</td>\n",
       "      <td>-0.009586</td>\n",
       "      <td>0.191441</td>\n",
       "      <td>0.639123</td>\n",
       "      <td>1.000000</td>\n",
       "      <td>0.226716</td>\n",
       "      <td>0.766106</td>\n",
       "      <td>-0.021458</td>\n",
       "    </tr>\n",
       "    <tr>\n",
       "      <th>runtime</th>\n",
       "      <td>-0.018554</td>\n",
       "      <td>0.001059</td>\n",
       "      <td>0.375210</td>\n",
       "      <td>0.206176</td>\n",
       "      <td>0.226716</td>\n",
       "      <td>1.000000</td>\n",
       "      <td>0.274337</td>\n",
       "      <td>-0.020571</td>\n",
       "    </tr>\n",
       "    <tr>\n",
       "      <th>vote_count</th>\n",
       "      <td>0.000908</td>\n",
       "      <td>0.007979</td>\n",
       "      <td>0.306121</td>\n",
       "      <td>0.773873</td>\n",
       "      <td>0.766106</td>\n",
       "      <td>0.274337</td>\n",
       "      <td>1.000000</td>\n",
       "      <td>-0.010685</td>\n",
       "    </tr>\n",
       "    <tr>\n",
       "      <th>user_id</th>\n",
       "      <td>0.043523</td>\n",
       "      <td>0.006431</td>\n",
       "      <td>-0.003119</td>\n",
       "      <td>-0.009439</td>\n",
       "      <td>-0.021458</td>\n",
       "      <td>-0.020571</td>\n",
       "      <td>-0.010685</td>\n",
       "      <td>1.000000</td>\n",
       "    </tr>\n",
       "  </tbody>\n",
       "</table>\n",
       "</div>"
      ],
      "text/plain": [
       "               item_id    rating  vote_average  popularity   revenue  \\\n",
       "item_id       1.000000 -0.186723     -0.018123    0.001866 -0.004926   \n",
       "rating       -0.186723  1.000000      0.004106    0.010324 -0.009586   \n",
       "vote_average -0.018123  0.004106      1.000000    0.289772  0.191441   \n",
       "popularity    0.001866  0.010324      0.289772    1.000000  0.639123   \n",
       "revenue      -0.004926 -0.009586      0.191441    0.639123  1.000000   \n",
       "runtime      -0.018554  0.001059      0.375210    0.206176  0.226716   \n",
       "vote_count    0.000908  0.007979      0.306121    0.773873  0.766106   \n",
       "user_id       0.043523  0.006431     -0.003119   -0.009439 -0.021458   \n",
       "\n",
       "               runtime  vote_count   user_id  \n",
       "item_id      -0.018554    0.000908  0.043523  \n",
       "rating        0.001059    0.007979  0.006431  \n",
       "vote_average  0.375210    0.306121 -0.003119  \n",
       "popularity    0.206176    0.773873 -0.009439  \n",
       "revenue       0.226716    0.766106 -0.021458  \n",
       "runtime       1.000000    0.274337 -0.020571  \n",
       "vote_count    0.274337    1.000000 -0.010685  \n",
       "user_id      -0.020571   -0.010685  1.000000  "
      ]
     },
     "execution_count": 18,
     "metadata": {},
     "output_type": "execute_result"
    }
   ],
   "source": [
    "movies.corr(method='pearson')"
   ]
  },
  {
   "cell_type": "code",
   "execution_count": 19,
   "id": "dbfae353",
   "metadata": {},
   "outputs": [
    {
     "data": {
      "text/plain": [
       "<AxesSubplot:>"
      ]
     },
     "execution_count": 19,
     "metadata": {},
     "output_type": "execute_result"
    },
    {
     "data": {
      "image/png": "[encoded data removed]",
      "text/plain": [
       "<Figure size 576x576 with 2 Axes>"
      ]
     },
     "metadata": {
      "needs_background": "light"
     },
     "output_type": "display_data"
    }
   ],
   "source": [
    "plt.figure(figsize=(8,8))\n",
    "seaborn.heatmap(movies.corr(method='pearson'),annot=True)"
   ]
  },
  {
   "cell_type": "code",
   "execution_count": 23,
   "id": "d4aeb0f0",
   "metadata": {
    "scrolled": true
   },
   "outputs": [
    {
     "data": {
      "text/html": [
       "<div>\n",
       "<style scoped>\n",
       "    .dataframe tbody tr th:only-of-type {\n",
       "        vertical-align: middle;\n",
       "    }\n",
       "\n",
       "    .dataframe tbody tr th {\n",
       "        vertical-align: top;\n",
       "    }\n",
       "\n",
       "    .dataframe thead th {\n",
       "        text-align: right;\n",
       "    }\n",
       "</style>\n",
       "<table border=\"1\" class=\"dataframe\">\n",
       "  <thead>\n",
       "    <tr style=\"text-align: right;\">\n",
       "      <th>title</th>\n",
       "      <th>#Horror</th>\n",
       "      <th>(500) Days of Summer</th>\n",
       "      <th>02:13</th>\n",
       "      <th>10 Cloverfield Lane</th>\n",
       "      <th>10 Days in a Madhouse</th>\n",
       "      <th>10 Things I Hate About You</th>\n",
       "      <th>102 Dalmatians</th>\n",
       "      <th>10th &amp; Wolf</th>\n",
       "      <th>11:14</th>\n",
       "      <th>12 Angry Men</th>\n",
       "      <th>...</th>\n",
       "      <th>Zoolander</th>\n",
       "      <th>Zoolander 2</th>\n",
       "      <th>Zoom</th>\n",
       "      <th>Zulu</th>\n",
       "      <th>[REC]</th>\n",
       "      <th>[REC]²</th>\n",
       "      <th>eXistenZ</th>\n",
       "      <th>xXx</th>\n",
       "      <th>xXx: State of the Union</th>\n",
       "      <th>Æon Flux</th>\n",
       "    </tr>\n",
       "    <tr>\n",
       "      <th>item_id</th>\n",
       "      <th></th>\n",
       "      <th></th>\n",
       "      <th></th>\n",
       "      <th></th>\n",
       "      <th></th>\n",
       "      <th></th>\n",
       "      <th></th>\n",
       "      <th></th>\n",
       "      <th></th>\n",
       "      <th></th>\n",
       "      <th></th>\n",
       "      <th></th>\n",
       "      <th></th>\n",
       "      <th></th>\n",
       "      <th></th>\n",
       "      <th></th>\n",
       "      <th></th>\n",
       "      <th></th>\n",
       "      <th></th>\n",
       "      <th></th>\n",
       "      <th></th>\n",
       "    </tr>\n",
       "  </thead>\n",
       "  <tbody>\n",
       "    <tr>\n",
       "      <th>1</th>\n",
       "      <td>0.0</td>\n",
       "      <td>0.0</td>\n",
       "      <td>0.0</td>\n",
       "      <td>0.0</td>\n",
       "      <td>0.0</td>\n",
       "      <td>0.0</td>\n",
       "      <td>0.0</td>\n",
       "      <td>0.0</td>\n",
       "      <td>0.0</td>\n",
       "      <td>0.0</td>\n",
       "      <td>...</td>\n",
       "      <td>0.0</td>\n",
       "      <td>0.0</td>\n",
       "      <td>0.0</td>\n",
       "      <td>0.0</td>\n",
       "      <td>0.0</td>\n",
       "      <td>0.0</td>\n",
       "      <td>0.0</td>\n",
       "      <td>0.0</td>\n",
       "      <td>0.0</td>\n",
       "      <td>0.0</td>\n",
       "    </tr>\n",
       "    <tr>\n",
       "      <th>2</th>\n",
       "      <td>0.0</td>\n",
       "      <td>0.0</td>\n",
       "      <td>0.0</td>\n",
       "      <td>0.0</td>\n",
       "      <td>0.0</td>\n",
       "      <td>0.0</td>\n",
       "      <td>0.0</td>\n",
       "      <td>0.0</td>\n",
       "      <td>0.0</td>\n",
       "      <td>0.0</td>\n",
       "      <td>...</td>\n",
       "      <td>0.0</td>\n",
       "      <td>0.0</td>\n",
       "      <td>0.0</td>\n",
       "      <td>0.0</td>\n",
       "      <td>0.0</td>\n",
       "      <td>0.0</td>\n",
       "      <td>0.0</td>\n",
       "      <td>0.0</td>\n",
       "      <td>0.0</td>\n",
       "      <td>0.0</td>\n",
       "    </tr>\n",
       "    <tr>\n",
       "      <th>3</th>\n",
       "      <td>0.0</td>\n",
       "      <td>0.0</td>\n",
       "      <td>0.0</td>\n",
       "      <td>0.0</td>\n",
       "      <td>0.0</td>\n",
       "      <td>0.0</td>\n",
       "      <td>0.0</td>\n",
       "      <td>0.0</td>\n",
       "      <td>0.0</td>\n",
       "      <td>0.0</td>\n",
       "      <td>...</td>\n",
       "      <td>0.0</td>\n",
       "      <td>0.0</td>\n",
       "      <td>0.0</td>\n",
       "      <td>0.0</td>\n",
       "      <td>0.0</td>\n",
       "      <td>0.0</td>\n",
       "      <td>0.0</td>\n",
       "      <td>0.0</td>\n",
       "      <td>0.0</td>\n",
       "      <td>0.0</td>\n",
       "    </tr>\n",
       "    <tr>\n",
       "      <th>4</th>\n",
       "      <td>0.0</td>\n",
       "      <td>0.0</td>\n",
       "      <td>0.0</td>\n",
       "      <td>0.0</td>\n",
       "      <td>0.0</td>\n",
       "      <td>0.0</td>\n",
       "      <td>0.0</td>\n",
       "      <td>0.0</td>\n",
       "      <td>0.0</td>\n",
       "      <td>0.0</td>\n",
       "      <td>...</td>\n",
       "      <td>0.0</td>\n",
       "      <td>0.0</td>\n",
       "      <td>0.0</td>\n",
       "      <td>0.0</td>\n",
       "      <td>0.0</td>\n",
       "      <td>0.0</td>\n",
       "      <td>0.0</td>\n",
       "      <td>0.0</td>\n",
       "      <td>0.0</td>\n",
       "      <td>0.0</td>\n",
       "    </tr>\n",
       "    <tr>\n",
       "      <th>5</th>\n",
       "      <td>0.0</td>\n",
       "      <td>0.0</td>\n",
       "      <td>0.0</td>\n",
       "      <td>0.0</td>\n",
       "      <td>0.0</td>\n",
       "      <td>0.0</td>\n",
       "      <td>0.0</td>\n",
       "      <td>0.0</td>\n",
       "      <td>0.0</td>\n",
       "      <td>0.0</td>\n",
       "      <td>...</td>\n",
       "      <td>0.0</td>\n",
       "      <td>0.0</td>\n",
       "      <td>0.0</td>\n",
       "      <td>0.0</td>\n",
       "      <td>0.0</td>\n",
       "      <td>0.0</td>\n",
       "      <td>0.0</td>\n",
       "      <td>0.0</td>\n",
       "      <td>0.0</td>\n",
       "      <td>0.0</td>\n",
       "    </tr>\n",
       "    <tr>\n",
       "      <th>...</th>\n",
       "      <td>...</td>\n",
       "      <td>...</td>\n",
       "      <td>...</td>\n",
       "      <td>...</td>\n",
       "      <td>...</td>\n",
       "      <td>...</td>\n",
       "      <td>...</td>\n",
       "      <td>...</td>\n",
       "      <td>...</td>\n",
       "      <td>...</td>\n",
       "      <td>...</td>\n",
       "      <td>...</td>\n",
       "      <td>...</td>\n",
       "      <td>...</td>\n",
       "      <td>...</td>\n",
       "      <td>...</td>\n",
       "      <td>...</td>\n",
       "      <td>...</td>\n",
       "      <td>...</td>\n",
       "      <td>...</td>\n",
       "      <td>...</td>\n",
       "    </tr>\n",
       "    <tr>\n",
       "      <th>1484</th>\n",
       "      <td>0.0</td>\n",
       "      <td>0.0</td>\n",
       "      <td>0.0</td>\n",
       "      <td>0.0</td>\n",
       "      <td>0.0</td>\n",
       "      <td>0.0</td>\n",
       "      <td>0.0</td>\n",
       "      <td>0.0</td>\n",
       "      <td>0.0</td>\n",
       "      <td>0.0</td>\n",
       "      <td>...</td>\n",
       "      <td>0.0</td>\n",
       "      <td>0.0</td>\n",
       "      <td>0.0</td>\n",
       "      <td>0.0</td>\n",
       "      <td>0.0</td>\n",
       "      <td>0.0</td>\n",
       "      <td>0.0</td>\n",
       "      <td>0.0</td>\n",
       "      <td>0.0</td>\n",
       "      <td>0.0</td>\n",
       "    </tr>\n",
       "    <tr>\n",
       "      <th>1492</th>\n",
       "      <td>0.0</td>\n",
       "      <td>0.0</td>\n",
       "      <td>0.0</td>\n",
       "      <td>0.0</td>\n",
       "      <td>0.0</td>\n",
       "      <td>0.0</td>\n",
       "      <td>0.0</td>\n",
       "      <td>0.0</td>\n",
       "      <td>0.0</td>\n",
       "      <td>0.0</td>\n",
       "      <td>...</td>\n",
       "      <td>0.0</td>\n",
       "      <td>0.0</td>\n",
       "      <td>0.0</td>\n",
       "      <td>0.0</td>\n",
       "      <td>0.0</td>\n",
       "      <td>0.0</td>\n",
       "      <td>0.0</td>\n",
       "      <td>0.0</td>\n",
       "      <td>0.0</td>\n",
       "      <td>0.0</td>\n",
       "    </tr>\n",
       "    <tr>\n",
       "      <th>1493</th>\n",
       "      <td>0.0</td>\n",
       "      <td>0.0</td>\n",
       "      <td>0.0</td>\n",
       "      <td>0.0</td>\n",
       "      <td>0.0</td>\n",
       "      <td>0.0</td>\n",
       "      <td>0.0</td>\n",
       "      <td>0.0</td>\n",
       "      <td>0.0</td>\n",
       "      <td>0.0</td>\n",
       "      <td>...</td>\n",
       "      <td>0.0</td>\n",
       "      <td>0.0</td>\n",
       "      <td>0.0</td>\n",
       "      <td>0.0</td>\n",
       "      <td>0.0</td>\n",
       "      <td>0.0</td>\n",
       "      <td>0.0</td>\n",
       "      <td>0.0</td>\n",
       "      <td>0.0</td>\n",
       "      <td>0.0</td>\n",
       "    </tr>\n",
       "    <tr>\n",
       "      <th>1497</th>\n",
       "      <td>0.0</td>\n",
       "      <td>0.0</td>\n",
       "      <td>0.0</td>\n",
       "      <td>0.0</td>\n",
       "      <td>0.0</td>\n",
       "      <td>0.0</td>\n",
       "      <td>0.0</td>\n",
       "      <td>0.0</td>\n",
       "      <td>0.0</td>\n",
       "      <td>0.0</td>\n",
       "      <td>...</td>\n",
       "      <td>0.0</td>\n",
       "      <td>0.0</td>\n",
       "      <td>0.0</td>\n",
       "      <td>0.0</td>\n",
       "      <td>0.0</td>\n",
       "      <td>0.0</td>\n",
       "      <td>0.0</td>\n",
       "      <td>0.0</td>\n",
       "      <td>0.0</td>\n",
       "      <td>0.0</td>\n",
       "    </tr>\n",
       "    <tr>\n",
       "      <th>1518</th>\n",
       "      <td>0.0</td>\n",
       "      <td>0.0</td>\n",
       "      <td>0.0</td>\n",
       "      <td>0.0</td>\n",
       "      <td>0.0</td>\n",
       "      <td>0.0</td>\n",
       "      <td>0.0</td>\n",
       "      <td>0.0</td>\n",
       "      <td>0.0</td>\n",
       "      <td>0.0</td>\n",
       "      <td>...</td>\n",
       "      <td>0.0</td>\n",
       "      <td>0.0</td>\n",
       "      <td>0.0</td>\n",
       "      <td>0.0</td>\n",
       "      <td>0.0</td>\n",
       "      <td>0.0</td>\n",
       "      <td>0.0</td>\n",
       "      <td>0.0</td>\n",
       "      <td>0.0</td>\n",
       "      <td>0.0</td>\n",
       "    </tr>\n",
       "  </tbody>\n",
       "</table>\n",
       "<p>1051 rows × 4800 columns</p>\n",
       "</div>"
      ],
      "text/plain": [
       "title    #Horror  (500) Days of Summer  02:13  10 Cloverfield Lane  \\\n",
       "item_id                                                              \n",
       "1            0.0                   0.0    0.0                  0.0   \n",
       "2            0.0                   0.0    0.0                  0.0   \n",
       "3            0.0                   0.0    0.0                  0.0   \n",
       "4            0.0                   0.0    0.0                  0.0   \n",
       "5            0.0                   0.0    0.0                  0.0   \n",
       "...          ...                   ...    ...                  ...   \n",
       "1484         0.0                   0.0    0.0                  0.0   \n",
       "1492         0.0                   0.0    0.0                  0.0   \n",
       "1493         0.0                   0.0    0.0                  0.0   \n",
       "1497         0.0                   0.0    0.0                  0.0   \n",
       "1518         0.0                   0.0    0.0                  0.0   \n",
       "\n",
       "title    10 Days in a Madhouse  10 Things I Hate About You  102 Dalmatians  \\\n",
       "item_id                                                                      \n",
       "1                          0.0                         0.0             0.0   \n",
       "2                          0.0                         0.0             0.0   \n",
       "3                          0.0                         0.0             0.0   \n",
       "4                          0.0                         0.0             0.0   \n",
       "5                          0.0                         0.0             0.0   \n",
       "...                        ...                         ...             ...   \n",
       "1484                       0.0                         0.0             0.0   \n",
       "1492                       0.0                         0.0             0.0   \n",
       "1493                       0.0                         0.0             0.0   \n",
       "1497                       0.0                         0.0             0.0   \n",
       "1518                       0.0                         0.0             0.0   \n",
       "\n",
       "title    10th & Wolf  11:14  12 Angry Men  ...  Zoolander  Zoolander 2  Zoom  \\\n",
       "item_id                                    ...                                 \n",
       "1                0.0    0.0           0.0  ...        0.0          0.0   0.0   \n",
       "2                0.0    0.0           0.0  ...        0.0          0.0   0.0   \n",
       "3                0.0    0.0           0.0  ...        0.0          0.0   0.0   \n",
       "4                0.0    0.0           0.0  ...        0.0          0.0   0.0   \n",
       "5                0.0    0.0           0.0  ...        0.0          0.0   0.0   \n",
       "...              ...    ...           ...  ...        ...          ...   ...   \n",
       "1484             0.0    0.0           0.0  ...        0.0          0.0   0.0   \n",
       "1492             0.0    0.0           0.0  ...        0.0          0.0   0.0   \n",
       "1493             0.0    0.0           0.0  ...        0.0          0.0   0.0   \n",
       "1497             0.0    0.0           0.0  ...        0.0          0.0   0.0   \n",
       "1518             0.0    0.0           0.0  ...        0.0          0.0   0.0   \n",
       "\n",
       "title    Zulu  [REC]  [REC]²  eXistenZ  xXx  xXx: State of the Union  Æon Flux  \n",
       "item_id                                                                         \n",
       "1         0.0    0.0     0.0       0.0  0.0                      0.0       0.0  \n",
       "2         0.0    0.0     0.0       0.0  0.0                      0.0       0.0  \n",
       "3         0.0    0.0     0.0       0.0  0.0                      0.0       0.0  \n",
       "4         0.0    0.0     0.0       0.0  0.0                      0.0       0.0  \n",
       "5         0.0    0.0     0.0       0.0  0.0                      0.0       0.0  \n",
       "...       ...    ...     ...       ...  ...                      ...       ...  \n",
       "1484      0.0    0.0     0.0       0.0  0.0                      0.0       0.0  \n",
       "1492      0.0    0.0     0.0       0.0  0.0                      0.0       0.0  \n",
       "1493      0.0    0.0     0.0       0.0  0.0                      0.0       0.0  \n",
       "1497      0.0    0.0     0.0       0.0  0.0                      0.0       0.0  \n",
       "1518      0.0    0.0     0.0       0.0  0.0                      0.0       0.0  \n",
       "\n",
       "[1051 rows x 4800 columns]"
      ]
     },
     "execution_count": 23,
     "metadata": {},
     "output_type": "execute_result"
    }
   ],
   "source": [
    "df_p = pd.pivot_table(movies,values='rating',index='item_id',columns='title').fillna(0)\n",
    "df_p"
   ]
  },
  {
   "cell_type": "code",
   "execution_count": 24,
   "id": "58814b22",
   "metadata": {},
   "outputs": [],
   "source": [
    "# df_p=df_p.corr(method='pearson')\n",
    "def pearsonR(s1, s2):\n",
    "    s1_c = s1-s1.mean()\n",
    "    s2_c= s2-s2.mean()\n",
    "    return int(np.sum(s1_c*s2_c) / np.sqrt(np.sum(s1_c**2)* np.sum(s2_c**2)))\n",
    "\n",
    "# A function to make N recommendations based on Pearson Correlation.\n",
    "# The parameters here are: movie name, matrix name and number of recommendations.\n",
    "def recommend(movie, M, n):\n",
    "    reviews=[]\n",
    "    for title in M.columns:\n",
    "        if title == movie:\n",
    "            continue\n",
    "        cor= pearsonR(M[movie], M[title])\n",
    "        if np.isnan(cor):\n",
    "            continue\n",
    "        else:\n",
    "            reviews.append((title, cor))\n",
    "            \n",
    "    reviews.sort(key= lambda tup: tup[1], reverse=True)\n",
    "    return reviews[:n]"
   ]
  },
  {
   "cell_type": "code",
   "execution_count": 25,
   "id": "1064a0e1",
   "metadata": {},
   "outputs": [
    {
     "data": {
      "text/plain": [
       "[('A Nightmare on Elm Street', 1),\n",
       " ('Barbershop', 1),\n",
       " ('Couples Retreat', 1),\n",
       " ('Extraordinary Measures', 1),\n",
       " ('Forrest Gump', 1),\n",
       " ('Home Run', 1),\n",
       " ('Ironclad', 1),\n",
       " ('Joe Dirt', 1),\n",
       " ('Niagara', 1),\n",
       " ('Percy Jackson: Sea of Monsters', 1)]"
      ]
     },
     "execution_count": 25,
     "metadata": {},
     "output_type": "execute_result"
    }
   ],
   "source": [
    "recs = recommend('John Carter', df_p, 10) #top 10 recommendations\n",
    "recs"
   ]
  },
  {
   "cell_type": "code",
   "execution_count": 26,
   "id": "011899c1",
   "metadata": {},
   "outputs": [
    {
     "data": {
      "text/plain": [
       "[('Allegiant', 1),\n",
       " ('Alpha and Omega', 1),\n",
       " ('Dreamcatcher', 1),\n",
       " ('Home Fries', 1),\n",
       " ('Rent', 1),\n",
       " ('Shattered Glass', 1),\n",
       " ('Spy Hard', 1),\n",
       " ('The Triplets of Belleville', 1),\n",
       " ('#Horror', 0),\n",
       " ('(500) Days of Summer', 0)]"
      ]
     },
     "execution_count": 26,
     "metadata": {},
     "output_type": "execute_result"
    }
   ],
   "source": [
    "recs = recommend('The Dark Knight Rises', df_p, 10) #top 10 recommendations\n",
    "recs"
   ]
  }
 ],
 "metadata": {
  "kernelspec": {
   "display_name": "Python 3",
   "language": "python",
   "name": "python3"
  },
  "language_info": {
   "codemirror_mode": {
    "name": "ipython",
    "version": 3
   },
   "file_extension": ".py",
   "mimetype": "text/x-python",
   "name": "python",
   "nbconvert_exporter": "python",
   "pygments_lexer": "ipython3",
   "version": "3.8.8"
  }
 },
 "nbformat": 4,
 "nbformat_minor": 5
}
